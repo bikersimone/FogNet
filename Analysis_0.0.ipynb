{
 "cells": [
  {
   "cell_type": "code",
   "execution_count": 40,
   "metadata": {
    "collapsed": false
   },
   "outputs": [],
   "source": [
    "import numpy as np # imports a fast numerical programming library\n",
    "import pandas as pd #lets us handle data as dataframes\n",
    "import math\n",
    "import matplotlib.pyplot as plt\n",
    "from matplotlib import cm\n",
    "from pandas.tools.plotting import lag_plot\n",
    "plt.matplotlib.style.use('ggplot')\n",
    "#pd.options.display.mpl_style = 'default'"
   ]
  },
  {
   "cell_type": "code",
   "execution_count": 2,
   "metadata": {
    "collapsed": false
   },
   "outputs": [],
   "source": [
    "TrainingSet_MicroClimate2h=pd.read_csv('C:\\\\Users\\\\Simone\\\\Documents\\\\jupyter\\\\fognet\\\\TrainingSet_MicroClimate2h.CSV'\n",
    "  ,quotechar='\"',index_col = 0)\n",
    "WaterYield2h=pd.read_csv('C:\\\\Users\\\\Simone\\\\Documents\\\\jupyter\\\\fognet\\\\WaterYield2h.CSV'\n",
    "  ,quotechar='\"',index_col = 0)"
   ]
  },
  {
   "cell_type": "code",
   "execution_count": 3,
   "metadata": {
    "collapsed": false,
    "scrolled": true
   },
   "outputs": [
    {
     "data": {
      "text/html": [
       "<div>\n",
       "<table border=\"1\" class=\"dataframe\">\n",
       "  <thead>\n",
       "    <tr style=\"text-align: right;\">\n",
       "      <th></th>\n",
       "      <th>percip_mm</th>\n",
       "      <th>humidity</th>\n",
       "      <th>temp</th>\n",
       "      <th>leafwet450_min</th>\n",
       "      <th>leafwet460_min</th>\n",
       "      <th>leafwet_lwscnt</th>\n",
       "      <th>gusts_ms</th>\n",
       "      <th>wind_dir</th>\n",
       "      <th>wind_ms</th>\n",
       "    </tr>\n",
       "  </thead>\n",
       "  <tbody>\n",
       "    <tr>\n",
       "      <th>2013-11-23 16:00:00</th>\n",
       "      <td>NaN</td>\n",
       "      <td>NaN</td>\n",
       "      <td>NaN</td>\n",
       "      <td>NaN</td>\n",
       "      <td>NaN</td>\n",
       "      <td>NaN</td>\n",
       "      <td>NaN</td>\n",
       "      <td>NaN</td>\n",
       "      <td>NaN</td>\n",
       "    </tr>\n",
       "    <tr>\n",
       "      <th>2013-11-23 18:00:00</th>\n",
       "      <td>NaN</td>\n",
       "      <td>NaN</td>\n",
       "      <td>NaN</td>\n",
       "      <td>NaN</td>\n",
       "      <td>NaN</td>\n",
       "      <td>NaN</td>\n",
       "      <td>NaN</td>\n",
       "      <td>NaN</td>\n",
       "      <td>NaN</td>\n",
       "    </tr>\n",
       "    <tr>\n",
       "      <th>2013-11-23 20:00:00</th>\n",
       "      <td>NaN</td>\n",
       "      <td>NaN</td>\n",
       "      <td>NaN</td>\n",
       "      <td>NaN</td>\n",
       "      <td>NaN</td>\n",
       "      <td>NaN</td>\n",
       "      <td>NaN</td>\n",
       "      <td>NaN</td>\n",
       "      <td>NaN</td>\n",
       "    </tr>\n",
       "    <tr>\n",
       "      <th>2013-11-23 22:00:00</th>\n",
       "      <td>NaN</td>\n",
       "      <td>NaN</td>\n",
       "      <td>NaN</td>\n",
       "      <td>NaN</td>\n",
       "      <td>NaN</td>\n",
       "      <td>NaN</td>\n",
       "      <td>NaN</td>\n",
       "      <td>NaN</td>\n",
       "      <td>NaN</td>\n",
       "    </tr>\n",
       "    <tr>\n",
       "      <th>2013-11-28 00:00:00</th>\n",
       "      <td>0</td>\n",
       "      <td>0.419516</td>\n",
       "      <td>8.183334</td>\n",
       "      <td>0</td>\n",
       "      <td>0</td>\n",
       "      <td>440</td>\n",
       "      <td>3.38223</td>\n",
       "      <td>125.25</td>\n",
       "      <td>3.030176</td>\n",
       "    </tr>\n",
       "  </tbody>\n",
       "</table>\n",
       "</div>"
      ],
      "text/plain": [
       "                     percip_mm  humidity      temp  leafwet450_min  \\\n",
       "2013-11-23 16:00:00        NaN       NaN       NaN             NaN   \n",
       "2013-11-23 18:00:00        NaN       NaN       NaN             NaN   \n",
       "2013-11-23 20:00:00        NaN       NaN       NaN             NaN   \n",
       "2013-11-23 22:00:00        NaN       NaN       NaN             NaN   \n",
       "2013-11-28 00:00:00          0  0.419516  8.183334               0   \n",
       "\n",
       "                     leafwet460_min  leafwet_lwscnt  gusts_ms  wind_dir  \\\n",
       "2013-11-23 16:00:00             NaN             NaN       NaN       NaN   \n",
       "2013-11-23 18:00:00             NaN             NaN       NaN       NaN   \n",
       "2013-11-23 20:00:00             NaN             NaN       NaN       NaN   \n",
       "2013-11-23 22:00:00             NaN             NaN       NaN       NaN   \n",
       "2013-11-28 00:00:00               0             440   3.38223    125.25   \n",
       "\n",
       "                      wind_ms  \n",
       "2013-11-23 16:00:00       NaN  \n",
       "2013-11-23 18:00:00       NaN  \n",
       "2013-11-23 20:00:00       NaN  \n",
       "2013-11-23 22:00:00       NaN  \n",
       "2013-11-28 00:00:00  3.030176  "
      ]
     },
     "execution_count": 3,
     "metadata": {},
     "output_type": "execute_result"
    }
   ],
   "source": [
    "TrainingSet_MicroClimate2h.head()"
   ]
  },
  {
   "cell_type": "code",
   "execution_count": 4,
   "metadata": {
    "collapsed": false
   },
   "outputs": [
    {
     "data": {
      "text/html": [
       "<div>\n",
       "<table border=\"1\" class=\"dataframe\">\n",
       "  <thead>\n",
       "    <tr style=\"text-align: right;\">\n",
       "      <th></th>\n",
       "      <th>yield</th>\n",
       "    </tr>\n",
       "  </thead>\n",
       "  <tbody>\n",
       "    <tr>\n",
       "      <th>2013-11-23 16:00:00</th>\n",
       "      <td>0</td>\n",
       "    </tr>\n",
       "    <tr>\n",
       "      <th>2013-11-23 18:00:00</th>\n",
       "      <td>0</td>\n",
       "    </tr>\n",
       "    <tr>\n",
       "      <th>2013-11-23 20:00:00</th>\n",
       "      <td>0</td>\n",
       "    </tr>\n",
       "    <tr>\n",
       "      <th>2013-11-23 22:00:00</th>\n",
       "      <td>0</td>\n",
       "    </tr>\n",
       "    <tr>\n",
       "      <th>2013-11-28 00:00:00</th>\n",
       "      <td>0</td>\n",
       "    </tr>\n",
       "  </tbody>\n",
       "</table>\n",
       "</div>"
      ],
      "text/plain": [
       "                     yield\n",
       "2013-11-23 16:00:00      0\n",
       "2013-11-23 18:00:00      0\n",
       "2013-11-23 20:00:00      0\n",
       "2013-11-23 22:00:00      0\n",
       "2013-11-28 00:00:00      0"
      ]
     },
     "execution_count": 4,
     "metadata": {},
     "output_type": "execute_result"
    }
   ],
   "source": [
    "WaterYield2h.head()"
   ]
  },
  {
   "cell_type": "code",
   "execution_count": 53,
   "metadata": {
    "collapsed": true
   },
   "outputs": [],
   "source": [
    "CompleteTrainingSet2h = TrainingSet_MicroClimate2h.join(WaterYield2h, how='outer')\n",
    "CompleteTrainingSet2h.humidity = CompleteTrainingSet2h.humidity*100."
   ]
  },
  {
   "cell_type": "code",
   "execution_count": 54,
   "metadata": {
    "collapsed": false,
    "scrolled": true
   },
   "outputs": [
    {
     "data": {
      "text/html": [
       "<div>\n",
       "<table border=\"1\" class=\"dataframe\">\n",
       "  <thead>\n",
       "    <tr style=\"text-align: right;\">\n",
       "      <th></th>\n",
       "      <th>percip_mm</th>\n",
       "      <th>humidity</th>\n",
       "      <th>temp</th>\n",
       "      <th>leafwet450_min</th>\n",
       "      <th>leafwet460_min</th>\n",
       "      <th>leafwet_lwscnt</th>\n",
       "      <th>gusts_ms</th>\n",
       "      <th>wind_dir</th>\n",
       "      <th>wind_ms</th>\n",
       "      <th>yield</th>\n",
       "    </tr>\n",
       "  </thead>\n",
       "  <tbody>\n",
       "    <tr>\n",
       "      <th>2013-11-23 16:00:00</th>\n",
       "      <td>NaN</td>\n",
       "      <td>NaN</td>\n",
       "      <td>NaN</td>\n",
       "      <td>NaN</td>\n",
       "      <td>NaN</td>\n",
       "      <td>NaN</td>\n",
       "      <td>NaN</td>\n",
       "      <td>NaN</td>\n",
       "      <td>NaN</td>\n",
       "      <td>0</td>\n",
       "    </tr>\n",
       "    <tr>\n",
       "      <th>2013-11-23 18:00:00</th>\n",
       "      <td>NaN</td>\n",
       "      <td>NaN</td>\n",
       "      <td>NaN</td>\n",
       "      <td>NaN</td>\n",
       "      <td>NaN</td>\n",
       "      <td>NaN</td>\n",
       "      <td>NaN</td>\n",
       "      <td>NaN</td>\n",
       "      <td>NaN</td>\n",
       "      <td>0</td>\n",
       "    </tr>\n",
       "    <tr>\n",
       "      <th>2013-11-23 20:00:00</th>\n",
       "      <td>NaN</td>\n",
       "      <td>NaN</td>\n",
       "      <td>NaN</td>\n",
       "      <td>NaN</td>\n",
       "      <td>NaN</td>\n",
       "      <td>NaN</td>\n",
       "      <td>NaN</td>\n",
       "      <td>NaN</td>\n",
       "      <td>NaN</td>\n",
       "      <td>0</td>\n",
       "    </tr>\n",
       "    <tr>\n",
       "      <th>2013-11-23 22:00:00</th>\n",
       "      <td>NaN</td>\n",
       "      <td>NaN</td>\n",
       "      <td>NaN</td>\n",
       "      <td>NaN</td>\n",
       "      <td>NaN</td>\n",
       "      <td>NaN</td>\n",
       "      <td>NaN</td>\n",
       "      <td>NaN</td>\n",
       "      <td>NaN</td>\n",
       "      <td>0</td>\n",
       "    </tr>\n",
       "    <tr>\n",
       "      <th>2013-11-28 00:00:00</th>\n",
       "      <td>0</td>\n",
       "      <td>41.951594</td>\n",
       "      <td>8.183334</td>\n",
       "      <td>0</td>\n",
       "      <td>0</td>\n",
       "      <td>440</td>\n",
       "      <td>3.38223</td>\n",
       "      <td>125.25</td>\n",
       "      <td>3.030176</td>\n",
       "      <td>0</td>\n",
       "    </tr>\n",
       "  </tbody>\n",
       "</table>\n",
       "</div>"
      ],
      "text/plain": [
       "                     percip_mm   humidity      temp  leafwet450_min  \\\n",
       "2013-11-23 16:00:00        NaN        NaN       NaN             NaN   \n",
       "2013-11-23 18:00:00        NaN        NaN       NaN             NaN   \n",
       "2013-11-23 20:00:00        NaN        NaN       NaN             NaN   \n",
       "2013-11-23 22:00:00        NaN        NaN       NaN             NaN   \n",
       "2013-11-28 00:00:00          0  41.951594  8.183334               0   \n",
       "\n",
       "                     leafwet460_min  leafwet_lwscnt  gusts_ms  wind_dir  \\\n",
       "2013-11-23 16:00:00             NaN             NaN       NaN       NaN   \n",
       "2013-11-23 18:00:00             NaN             NaN       NaN       NaN   \n",
       "2013-11-23 20:00:00             NaN             NaN       NaN       NaN   \n",
       "2013-11-23 22:00:00             NaN             NaN       NaN       NaN   \n",
       "2013-11-28 00:00:00               0             440   3.38223    125.25   \n",
       "\n",
       "                      wind_ms  yield  \n",
       "2013-11-23 16:00:00       NaN      0  \n",
       "2013-11-23 18:00:00       NaN      0  \n",
       "2013-11-23 20:00:00       NaN      0  \n",
       "2013-11-23 22:00:00       NaN      0  \n",
       "2013-11-28 00:00:00  3.030176      0  "
      ]
     },
     "execution_count": 54,
     "metadata": {},
     "output_type": "execute_result"
    }
   ],
   "source": [
    "CompleteTrainingSet2h.head()"
   ]
  },
  {
   "cell_type": "code",
   "execution_count": 61,
   "metadata": {
    "collapsed": false
   },
   "outputs": [],
   "source": [
    "plt.figure()\n",
    "ax = CompleteTrainingSet2h.plot(secondary_y=['yield','wind_ms','temp'],colormap=cm.rainbow_r)\n",
    "ax.set_ylabel('Weather')\n",
    "#ax.r.set_ylabel('Yield')\n",
    "plt.show()"
   ]
  },
  {
   "cell_type": "code",
   "execution_count": 57,
   "metadata": {
    "collapsed": false
   },
   "outputs": [],
   "source": [
    "plt.figure()\n",
    "CompleteTrainingSet2h.percip_mm.plot()\n",
    "CompleteTrainingSet2h.humidity.plot()\n",
    "CompleteTrainingSet2h['yield'].plot(secondary_y=True, style='g')\n",
    "plt.show()"
   ]
  },
  {
   "cell_type": "code",
   "execution_count": 60,
   "metadata": {
    "collapsed": false
   },
   "outputs": [],
   "source": [
    "plt.figure()\n",
    "CompleteTrainingSet2h.plot(kind='scatter', x='leafwet_lwscnt', y='yield', s=CompleteTrainingSet2h['humidity']);\n",
    "plt.show()"
   ]
  },
  {
   "cell_type": "code",
   "execution_count": 41,
   "metadata": {
    "collapsed": false
   },
   "outputs": [],
   "source": [
    "plt.figure()\n",
    "lag_plot(CompleteTrainingSet2h['yield'])\n",
    "plt.show()"
   ]
  },
  {
   "cell_type": "code",
   "execution_count": null,
   "metadata": {
    "collapsed": true
   },
   "outputs": [],
   "source": []
  }
 ],
 "metadata": {
  "kernelspec": {
   "display_name": "Python 2",
   "language": "python",
   "name": "python2"
  },
  "language_info": {
   "codemirror_mode": {
    "name": "ipython",
    "version": 2
   },
   "file_extension": ".py",
   "mimetype": "text/x-python",
   "name": "python",
   "nbconvert_exporter": "python",
   "pygments_lexer": "ipython2",
   "version": "2.7.10"
  }
 },
 "nbformat": 4,
 "nbformat_minor": 0
}
